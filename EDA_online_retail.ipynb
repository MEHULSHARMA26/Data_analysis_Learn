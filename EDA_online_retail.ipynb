{
  "cells": [
    {
      "cell_type": "markdown",
      "metadata": {
        "id": "view-in-github",
        "colab_type": "text"
      },
      "source": [
        "<a href=\"https://colab.research.google.com/github/MEHULSHARMA26/Data_analysis_Learn/blob/main/EDA_online_retail.ipynb\" target=\"_parent\"><img src=\"https://colab.research.google.com/assets/colab-badge.svg\" alt=\"Open In Colab\"/></a>"
      ]
    },
    {
      "cell_type": "code",
      "execution_count": null,
      "metadata": {
        "colab": {
          "base_uri": "https://localhost:8080/"
        },
        "id": "XvY2tHt4p3Qg",
        "outputId": "acaad998-9e57-4435-bdf6-8b321b10a8d7"
      },
      "outputs": [
        {
          "name": "stdout",
          "output_type": "stream",
          "text": [
            "Requirement already satisfied: openpyxl in /usr/local/lib/python3.11/dist-packages (3.1.5)\n",
            "Requirement already satisfied: et-xmlfile in /usr/local/lib/python3.11/dist-packages (from openpyxl) (2.0.0)\n"
          ]
        }
      ],
      "source": [
        "!pip install openpyxl"
      ]
    },
    {
      "cell_type": "code",
      "execution_count": null,
      "metadata": {
        "id": "i7a0Nz8Rt8V3"
      },
      "outputs": [],
      "source": [
        "import pandas as pd\n",
        "from matplotlib import pyplot as plt"
      ]
    },
    {
      "cell_type": "code",
      "execution_count": null,
      "metadata": {
        "colab": {
          "base_uri": "https://localhost:8080/"
        },
        "id": "nzv-HReVuOBS",
        "outputId": "5257bb36-f881-4bbb-e8b2-82fdddeb3862"
      },
      "outputs": [
        {
          "name": "stdout",
          "output_type": "stream",
          "text": [
            "--2025-03-04 06:01:21--  https://archive.ics.uci.edu/static/public/352/online+retail.zip\n",
            "Resolving archive.ics.uci.edu (archive.ics.uci.edu)... 128.195.10.252\n",
            "Connecting to archive.ics.uci.edu (archive.ics.uci.edu)|128.195.10.252|:443... connected.\n",
            "HTTP request sent, awaiting response... 200 OK\n",
            "Length: unspecified\n",
            "Saving to: ‘online+retail.zip.1’\n",
            "\n",
            "online+retail.zip.1     [    <=>             ]  22.62M  31.5MB/s    in 0.7s    \n",
            "\n",
            "2025-03-04 06:01:22 (31.5 MB/s) - ‘online+retail.zip.1’ saved [23715478]\n",
            "\n"
          ]
        }
      ],
      "source": [
        "!wget https://archive.ics.uci.edu/static/public/352/online+retail.zip"
      ]
    },
    {
      "cell_type": "code",
      "execution_count": null,
      "metadata": {
        "colab": {
          "background_save": true,
          "base_uri": "https://localhost:8080/"
        },
        "id": "sN7MHel7vBSl",
        "outputId": "f94115cc-e5ff-4a2d-9751-7d15234704e2"
      },
      "outputs": [
        {
          "name": "stdout",
          "output_type": "stream",
          "text": [
            "Archive:  online+retail.zip\n",
            "replace Online Retail.xlsx? [y]es, [n]o, [A]ll, [N]one, [r]ename: "
          ]
        }
      ],
      "source": [
        "!unzip online+retail.zip"
      ]
    },
    {
      "cell_type": "code",
      "execution_count": null,
      "metadata": {
        "id": "tYsDAS1hvO_G"
      },
      "outputs": [],
      "source": [
        "df1 = pd.read_excel(\"Online Retail.xlsx\",dtype={'InvoiceNo':'string','StockCode':'string','Description':'string','Country':'string'})\n",
        "df1.head(1)"
      ]
    },
    {
      "cell_type": "code",
      "execution_count": null,
      "metadata": {
        "colab": {
          "background_save": true
        },
        "id": "Id-QuHcGxsEl"
      },
      "outputs": [],
      "source": [
        "\n",
        "df1.shape\n",
        "df1.isnull().sum()"
      ]
    },
    {
      "cell_type": "code",
      "execution_count": null,
      "metadata": {
        "id": "rZhDt7LwxtTM"
      },
      "outputs": [],
      "source": [
        "df1.info()"
      ]
    },
    {
      "cell_type": "markdown",
      "metadata": {
        "id": "rRDaOWfhx4l6"
      },
      "source": [
        "### Data Cleaning: Handle Missing Values"
      ]
    },
    {
      "cell_type": "code",
      "execution_count": null,
      "metadata": {
        "id": "jbZe0uHDymOO"
      },
      "outputs": [],
      "source": [
        "df1[df1.Description.isnull()]"
      ]
    },
    {
      "cell_type": "markdown",
      "metadata": {
        "id": "Jp3oFx4izDM4"
      },
      "source": [
        "df1[df1.Description.isnull()] => it displays all the info about the records where description is null"
      ]
    },
    {
      "cell_type": "code",
      "execution_count": null,
      "metadata": {
        "id": "u4WzdM0QzXcz"
      },
      "outputs": [],
      "source": [
        "df1[df1.StockCode=='22139']"
      ]
    },
    {
      "cell_type": "code",
      "execution_count": null,
      "metadata": {
        "id": "eSndE4YJ64cC"
      },
      "outputs": [],
      "source": [
        "df1[df1.StockCode=='22139'].Description.mode()"
      ]
    },
    {
      "cell_type": "code",
      "execution_count": null,
      "metadata": {
        "id": "vC2OKW327n0t"
      },
      "outputs": [],
      "source": [
        "most_frq = df1[['StockCode','Description']].value_counts().reset_index()\n",
        "most_frq"
      ]
    },
    {
      "cell_type": "code",
      "execution_count": null,
      "metadata": {
        "id": "UsuU36iE8XSu"
      },
      "outputs": [],
      "source": [
        "most_frq[most_frq.StockCode=='85123A']"
      ]
    },
    {
      "cell_type": "code",
      "execution_count": null,
      "metadata": {
        "id": "gIOZHiXa_VAb"
      },
      "outputs": [],
      "source": [
        "most_frq= most_frq.groupby('StockCode').head(1)\n",
        "most_frq"
      ]
    },
    {
      "cell_type": "code",
      "execution_count": null,
      "metadata": {
        "id": "FnJYx7BB_jll"
      },
      "outputs": [],
      "source": [
        "most_frq[most_frq.StockCode=='85123A']"
      ]
    },
    {
      "cell_type": "code",
      "execution_count": null,
      "metadata": {
        "id": "QMB_WW5_AZtP"
      },
      "outputs": [],
      "source": [
        "most_frq.columns =  ['StockCode','freq_Description','count']\n",
        "\n",
        "most_frq"
      ]
    },
    {
      "cell_type": "code",
      "execution_count": null,
      "metadata": {
        "id": "VwaNCakyAlNb"
      },
      "outputs": [],
      "source": [
        "df2 = df1.merge(most_frq,on='StockCode',how='left')\n",
        "df2"
      ]
    },
    {
      "cell_type": "code",
      "execution_count": null,
      "metadata": {
        "id": "dU-i6wOyBWa2"
      },
      "outputs": [],
      "source": [
        "df2['Description'] = df2['freq_Description']\n",
        "df2"
      ]
    },
    {
      "cell_type": "code",
      "execution_count": null,
      "metadata": {
        "id": "V-Uj2WIwBgaB"
      },
      "outputs": [],
      "source": [
        " df2.isnull().sum()"
      ]
    },
    {
      "cell_type": "code",
      "execution_count": null,
      "metadata": {
        "id": "WbAceCFRDffR"
      },
      "outputs": [],
      "source": [
        "df2.dropna(subset=['Description'],inplace=True)\n",
        "df2.isnull().sum()\n",
        "df2"
      ]
    },
    {
      "cell_type": "code",
      "execution_count": null,
      "metadata": {
        "id": "-K3TAp5P985u"
      },
      "outputs": [],
      "source": [
        "df2.drop(columns=[\"freq_Description\",\"count\"],inplace=True)\n",
        "df2.head()"
      ]
    },
    {
      "cell_type": "code",
      "execution_count": null,
      "metadata": {
        "id": "_M_sKggLAjtw"
      },
      "outputs": [],
      "source": [
        " df2.describe()"
      ]
    },
    {
      "cell_type": "code",
      "execution_count": null,
      "metadata": {
        "id": "3ZTMHfYZAlvJ"
      },
      "outputs": [],
      "source": [
        "df2[df2.Quantity<0]"
      ]
    },
    {
      "cell_type": "code",
      "execution_count": null,
      "metadata": {
        "id": "0bR0nn3AS5G_"
      },
      "outputs": [],
      "source": [
        "df3 = df2[(df2.UnitPrice > 0) & (df2.Quantity > 0)]\n",
        "df3.describe()\n"
      ]
    },
    {
      "cell_type": "code",
      "execution_count": null,
      "metadata": {
        "id": "JASIvxIAUP2g"
      },
      "outputs": [],
      "source": [
        "df3.Quantity.quantile(0.99)"
      ]
    },
    {
      "cell_type": "code",
      "execution_count": null,
      "metadata": {
        "id": "QjQ1F5m8VXqp"
      },
      "outputs": [],
      "source": [
        "df3[df3.Quantity > 1500]"
      ]
    },
    {
      "cell_type": "markdown",
      "metadata": {
        "id": "Ihbb1JuLW3yA"
      },
      "source": [
        "### Feature Engineering: Create New Columns"
      ]
    },
    {
      "cell_type": "code",
      "execution_count": null,
      "metadata": {
        "id": "kdcjrJ6DXbGU"
      },
      "outputs": [],
      "source": [
        "# prompt: generate me column for Total sales using Quantity and unit price  and store it in new dataframe as df4\n",
        "\n",
        "df4 = df3.copy()\n",
        "df4['TotalSales'] = df4['Quantity'] * df4['UnitPrice']\n",
        "df4.head(3)\n"
      ]
    },
    {
      "cell_type": "code",
      "execution_count": null,
      "metadata": {
        "id": "hF5IzTCgjkDR"
      },
      "outputs": [],
      "source": [
        "df4.info()"
      ]
    },
    {
      "cell_type": "code",
      "execution_count": null,
      "metadata": {
        "id": "esal-aeojlc_"
      },
      "outputs": [],
      "source": [
        " df4[\"Month\"] = df4['InvoiceDate'].dt.month\n",
        " df4.sample(5)"
      ]
    },
    {
      "cell_type": "markdown",
      "metadata": {
        "id": "Aag1d5XFo6sM"
      },
      "source": [
        "### Visualization and EDA"
      ]
    },
    {
      "cell_type": "markdown",
      "metadata": {
        "id": "_jxo7I_iqJaU"
      },
      "source": [
        "### Plot monthly sales"
      ]
    },
    {
      "cell_type": "code",
      "execution_count": null,
      "metadata": {
        "id": "tcYjp4isrKBY"
      },
      "outputs": [],
      "source": [
        "monthly_sales = df4.groupby('Month')['TotalSales'].sum()\n",
        "monthly_sales.plot(kind = \"line\", title = \"Monthly sales\",marker ='o')\n",
        "plt.xlabel(\"Month\")\n",
        "plt.ylabel(\"Total Sales\")\n",
        "plt.grid()\n",
        "plt.show()"
      ]
    },
    {
      "cell_type": "markdown",
      "metadata": {
        "id": "yhvG4Woqwl0h"
      },
      "source": [
        "***Insights***\n",
        "\n",
        "Total sales started rising sharply after august and reached to it's peak in november.this is highly likely due to the festive season at the end of the year"
      ]
    },
    {
      "cell_type": "markdown",
      "metadata": {
        "id": "MyBYcIMcxJsG"
      },
      "source": [
        "2. Top 5 countries (By sales)"
      ]
    },
    {
      "cell_type": "code",
      "execution_count": null,
      "metadata": {
        "id": "5krRczvGxO9b"
      },
      "outputs": [],
      "source": [
        "# prompt: plot a horizontal bar chart for top 5 countries by total sales\n",
        "\n",
        "import matplotlib.pyplot as plt\n",
        "top_countries = df4.groupby('Country')['TotalSales'].sum().sort_values(ascending=False).head(5)\n",
        "plt.figure(figsize=(10, 6))\n",
        "plt.barh(top_countries.index, top_countries.values)\n",
        "plt.xlabel('Total Sales')\n",
        "plt.ylabel('Country')\n",
        "plt.title('Top 5 Countries by Total Sales')\n",
        "plt.show()\n"
      ]
    },
    {
      "cell_type": "code",
      "execution_count": null,
      "metadata": {
        "id": "pjRfOVPaYK2U"
      },
      "outputs": [],
      "source": [
        "# prompt: plot same chart as above but this time use percentage contribution.Show % on the bar\n",
        "\n",
        "import matplotlib.pyplot as plt\n",
        "\n",
        "# Calculate percentage contribution\n",
        "\n",
        "country_wise_sales = df4.groupby('Country')['TotalSales'].sum()\n",
        "total_sales = country_wise_sales.sum()\n",
        "\n",
        "top_5_countries = country_wise_sales.sort_values(ascending=False).head(5)\n",
        "percentage_contributions = (top_5_countries / total_sales) * 100\n",
        "\n",
        "\n",
        "# Create the bar chart with percentage labels\n",
        "plt.figure(figsize=(10, 6))\n",
        "bars = plt.barh(top_countries.index, percentage_contributions)\n",
        "plt.xlabel('Percentage Contribution to Total Sales')\n",
        "plt.ylabel('Country')\n",
        "plt.title('Top 5 Countries by Percentage Contribution to Total Sales')\n",
        "\n",
        "# Add percentage labels on the bars\n",
        "for bar, percentage in zip(bars, percentage_contributions):\n",
        "    plt.text(bar.get_width() + 0.5, bar.get_y() + bar.get_height()/2, f'{percentage:.1f}%',\n",
        "             va='center', ha='left', fontsize=10, color='black')\n",
        "\n",
        "plt.show()\n"
      ]
    },
    {
      "cell_type": "code",
      "execution_count": null,
      "metadata": {
        "id": "COZAdPZ1bW_z"
      },
      "outputs": [],
      "source": [
        "product_wise_sales = df4.groupby('StockCode')['TotalSales'].sum()\n",
        "\n",
        "top_5_products = product_wise_sales.sort_values(ascending=False).head(5)\n",
        "top_5_products.plot(kind='barh',color = 'skyblue')\n",
        "plt.title('Product-wise Sales')\n",
        "plt.xlabel('Total Sales')\n",
        "plt.ylabel('Product Stock Code')\n",
        "plt.gca().invert_yaxis()\n",
        "plt.show()"
      ]
    },
    {
      "cell_type": "code",
      "execution_count": null,
      "metadata": {
        "id": "pfd81fIjc-DX"
      },
      "outputs": [],
      "source": [
        "for stock_code in top_5_products.index:\n",
        "    description = df4[df4['StockCode'] == stock_code]['Description'].iloc[0]\n",
        "    print(f\"Stock Code: {stock_code}, Description: {description}\")"
      ]
    },
    {
      "cell_type": "code",
      "execution_count": null,
      "metadata": {
        "id": "nooOaWwideA8"
      },
      "outputs": [],
      "source": [
        "# prompt: plot same chart as above for product sales but use percentage this time.Show % on the bar\n",
        "\n",
        "import matplotlib.pyplot as plt\n",
        "\n",
        "# Calculate percentage contribution\n",
        "\n",
        "total_sales = product_wise_sales.sum()\n",
        "percentages = (top_5_products / total_sales) * 100\n",
        "\n",
        "\n",
        "# Create the bar chart with percentage labels\n",
        "plt.figure(figsize=(10, 6))\n",
        "bars = plt.barh(top_5_products.index, percentage_contributions)\n",
        "plt.xlabel('Percentage Contribution to Total Sales')\n",
        "plt.ylabel('Product Stock Code')\n",
        "plt.title('Top 5 Products by Percentage Contribution to Total Sales')\n",
        "plt.grid(axis = 'x')\n",
        "\n",
        "# Add percentage labels on the bars\n",
        "for bar, percentage in zip(bars, percentages):\n",
        "    plt.text(bar.get_width() + 0.5, bar.get_y() + bar.get_height()/2, f'{percentage:.1f}%',\n",
        "             va='center')\n",
        "\n",
        "\n",
        "plt.show()\n",
        "\n",
        "\n"
      ]
    },
    {
      "cell_type": "markdown",
      "metadata": {
        "id": "j8-PPLX8gHE6"
      },
      "source": [
        "### RFM ANALYSIS\n",
        "\n",
        "recency,frequency,monetary analysis"
      ]
    },
    {
      "cell_type": "code",
      "execution_count": null,
      "metadata": {
        "id": "w590BUbagLfP"
      },
      "outputs": [],
      "source": [
        "current_dt = df4[\"InvoiceDate\"].max() + pd.Timedelta(days = 1)\n",
        "current_dt"
      ]
    },
    {
      "cell_type": "code",
      "execution_count": null,
      "metadata": {
        "id": "XWeYtNBrg8dh"
      },
      "outputs": [],
      "source": [
        "rfm = df4.groupby(\"CustomerID\").agg({\n",
        "    \"InvoiceDate\": lambda x: (current_dt - x.max()).days,\n",
        "    \"InvoiceNo\": 'count',\n",
        "    \"TotalSales\": 'sum'\n",
        "})\n",
        "\n",
        "rfm.columns = ['Recency','Frequency','Monetary']\n",
        "rfm.head(5)"
      ]
    },
    {
      "cell_type": "markdown",
      "metadata": {
        "id": "8swJwuFll5rb"
      },
      "source": [
        "### Segment Customer based on RFM"
      ]
    },
    {
      "cell_type": "code",
      "execution_count": null,
      "metadata": {
        "id": "_gi_VmYpmB0w"
      },
      "outputs": [],
      "source": [
        "rfm['R_Segment'] = pd.qcut(rfm['Recency'],4,labels=[4,3,2,1])\n",
        "rfm['F_Segment'] = pd.qcut(rfm['Frequency'],4,labels=[1,2,3,4])\n",
        "rfm['M_Segment'] = pd.qcut(rfm['Monetary'],4,labels=[1,2,3,4])\n",
        "rfm['RFM_Score'] = rfm[['R_Segment','F_Segment','M_Segment']].sum(axis=1)\n",
        "rfm"
      ]
    },
    {
      "cell_type": "code",
      "execution_count": null,
      "metadata": {
        "id": "hK8adHMRm3lY"
      },
      "outputs": [],
      "source": [
        "rfm.sort_values(\"RFM_Score\",ascending=False)"
      ]
    },
    {
      "cell_type": "markdown",
      "metadata": {
        "id": "sh13EDbNofX9"
      },
      "source": [
        "### 5 Customer Churn analysis"
      ]
    },
    {
      "cell_type": "code",
      "execution_count": null,
      "metadata": {
        "id": "Bv4eY2iRohwk"
      },
      "outputs": [],
      "source": [
        "#Create a basket matrix for association rule mining\n",
        "customer_last_purchase = df4.groupby(\"CustomerID\")['InvoiceDate'].max()\n",
        "customer_last_purchase.head(5)"
      ]
    },
    {
      "cell_type": "code",
      "execution_count": null,
      "metadata": {
        "id": "hFBKsZO7rO5z"
      },
      "outputs": [],
      "source": [
        " current_dt"
      ]
    },
    {
      "cell_type": "code",
      "execution_count": null,
      "metadata": {
        "id": "zklMLHFfvkCq"
      },
      "outputs": [],
      "source": [
        "customer_last_purchase = (current_dt - customer_last_purchase).dt.days\n",
        "customer_last_purchase.head(5)"
      ]
    },
    {
      "cell_type": "code",
      "execution_count": null,
      "metadata": {
        "id": "0lwshp_Ut8T-"
      },
      "outputs": [],
      "source": [
        "#Define churn threshold (e.g., 90 days without purchase)\n",
        "churn_threshold = 90\n",
        "churned_customers = customer_last_purchase[customer_last_purchase > churn_threshold]\n",
        "churned_customers.head(5)"
      ]
    }
  ],
  "metadata": {
    "accelerator": "TPU",
    "colab": {
      "gpuType": "V28",
      "provenance": [],
      "authorship_tag": "ABX9TyNsKWGZuVJEm980iIMVW0UW",
      "include_colab_link": true
    },
    "kernelspec": {
      "display_name": "Python 3",
      "name": "python3"
    },
    "language_info": {
      "name": "python"
    }
  },
  "nbformat": 4,
  "nbformat_minor": 0
}